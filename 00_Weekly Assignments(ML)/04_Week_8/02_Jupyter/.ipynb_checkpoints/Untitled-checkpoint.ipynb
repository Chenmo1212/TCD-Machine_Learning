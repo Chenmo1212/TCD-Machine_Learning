{
 "cells": [
  {
   "cell_type": "code",
   "execution_count": 1,
   "id": "1a697048",
   "metadata": {},
   "outputs": [],
   "source": [
    "import numpy as np\n",
    "from PIL import Image"
   ]
  },
  {
   "cell_type": "code",
   "execution_count": 2,
   "id": "f39e3d35",
   "metadata": {},
   "outputs": [],
   "source": [
    "def cv_show(name, img_data):\n",
    "    cv2.imshow(name, img_data)\n",
    "    cv2.waitKey(0)\n",
    "    cv2.destroyAllWindows()\n",
    "\n",
    "\n",
    "def cv_save(name, img_data):\n",
    "    cv2.imwrite(name, img_data)"
   ]
  },
  {
   "cell_type": "code",
   "execution_count": 3,
   "id": "865a44c7",
   "metadata": {},
   "outputs": [],
   "source": [
    "img = Image.open(\"rabbit.png\")\n",
    "img_rgb = np.array(img.convert(\"RGB\"))\n",
    "img_b = img_rgb[:, :, 2]"
   ]
  },
  {
   "cell_type": "code",
   "execution_count": 4,
   "id": "7e2e0ad4",
   "metadata": {},
   "outputs": [],
   "source": [
    "def conv(arr, k):\n",
    "    h, w = arr.shape\n",
    "    new_arr = np.zeros((h, w), dtype=arr.dtype)\n",
    "    kl = len(k)\n",
    "\n",
    "    tmp_arr = np.pad(arr, (1, 1))\n",
    "\n",
    "    for a in range(len(new_arr)):\n",
    "        for b in range(len(new_arr[0])):\n",
    "            tmp = np.sum(np.multiply(tmp_arr[a:a+len(k), b:b + len(k)], k))\n",
    "            new_arr[a][b] = np.clip(tmp, 0.0, 255.0)\n",
    "    return new_arr"
   ]
  },
  {
   "cell_type": "code",
   "execution_count": 5,
   "id": "9aaffd84",
   "metadata": {},
   "outputs": [],
   "source": [
    "kernel_b1 = np.array([[-1, -1, -1],\n",
    "                      [-1, 8, -1],\n",
    "                      [-1, -1, -1], ])\n",
    "kernel_b2 = np.array([[0, -1, 0],\n",
    "                      [-1, 8, -1],\n",
    "                      [0, -1, 0], ])\n",
    "\n",
    "img_b1 = conv(img_b, kernel_b1)\n",
    "img_b2 = conv(img_b, kernel_b2)"
   ]
  },
  {
   "cell_type": "code",
   "execution_count": 6,
   "id": "1a047cea",
   "metadata": {},
   "outputs": [],
   "source": [
    "img_r = Image.fromarray(img_b1)\n",
    "img_r.show()\n",
    "img_r.save(\"img_b1.jpg\")"
   ]
  },
  {
   "cell_type": "code",
   "execution_count": 7,
   "id": "3373c9cc",
   "metadata": {},
   "outputs": [],
   "source": [
    "img_r = Image.fromarray(img_b2)\n",
    "img_r.show()\n",
    "img_r.save(\"img_b2.jpg\")"
   ]
  },
  {
   "cell_type": "markdown",
   "id": "f27814ad",
   "metadata": {},
   "source": [
    "# ii"
   ]
  },
  {
   "cell_type": "code",
   "execution_count": 8,
   "id": "a26cfb0f",
   "metadata": {},
   "outputs": [],
   "source": [
    "import numpy as np\n",
    "import tensorflow as tf\n",
    "from tensorflow import keras\n",
    "from tensorflow.keras import layers, regularizers\n",
    "from keras.layers import Dense, Dropout, Activation, Flatten, BatchNormalization\n",
    "from keras.layers import Conv2D, MaxPooling2D, LeakyReLU\n",
    "from sklearn.metrics import confusion_matrix, classification_report\n",
    "from sklearn.utils import shuffle\n",
    "import matplotlib.pyplot as plt"
   ]
  },
  {
   "cell_type": "code",
   "execution_count": 9,
   "id": "66ef0809",
   "metadata": {},
   "outputs": [],
   "source": [
    "plt.rc('font', size=18)\n",
    "plt.rcParams['figure.constrained_layout.use'] = True\n",
    "import sys"
   ]
  },
  {
   "cell_type": "code",
   "execution_count": 10,
   "id": "e87d62c1",
   "metadata": {},
   "outputs": [],
   "source": [
    "# Model / data parameters\n",
    "num_classes = 10\n",
    "input_shape = (32, 32, 3)"
   ]
  },
  {
   "cell_type": "code",
   "execution_count": 11,
   "id": "53731633",
   "metadata": {},
   "outputs": [],
   "source": [
    "(x_train, y_train), (x_test, y_test) = keras.datasets.cifar10.load_data()"
   ]
  },
  {
   "cell_type": "code",
   "execution_count": 12,
   "id": "313401de",
   "metadata": {},
   "outputs": [],
   "source": [
    "n = 5000\n",
    "x_train = x_train[1:n]\n",
    "y_train = y_train[1:n]"
   ]
  },
  {
   "cell_type": "code",
   "execution_count": 13,
   "id": "a3bf253d",
   "metadata": {},
   "outputs": [
    {
     "name": "stdout",
     "output_type": "stream",
     "text": [
      "orig x_train shape: (4999, 32, 32, 3)\n"
     ]
    }
   ],
   "source": [
    "x_train = x_train.astype(\"float32\") / 255\n",
    "x_test = x_test.astype(\"float32\") / 255\n",
    "print(\"orig x_train shape:\", x_train.shape)"
   ]
  },
  {
   "cell_type": "code",
   "execution_count": 14,
   "id": "a8423bcd",
   "metadata": {},
   "outputs": [],
   "source": [
    "# convert class vectors to binary class matrices\n",
    "y_train = keras.utils.to_categorical(y_train, num_classes)\n",
    "y_test = keras.utils.to_categorical(y_test, num_classes)"
   ]
  },
  {
   "cell_type": "code",
   "execution_count": 15,
   "id": "ad30ab59",
   "metadata": {},
   "outputs": [],
   "source": [
    "model = keras.Sequential()"
   ]
  },
  {
   "cell_type": "code",
   "execution_count": 16,
   "id": "cc06cbc4",
   "metadata": {},
   "outputs": [
    {
     "data": {
      "text/plain": [
       "(32, 32, 3)"
      ]
     },
     "execution_count": 16,
     "metadata": {},
     "output_type": "execute_result"
    }
   ],
   "source": [
    "x_train.shape[1:]"
   ]
  },
  {
   "cell_type": "code",
   "execution_count": 17,
   "id": "67f8fe19",
   "metadata": {},
   "outputs": [],
   "source": [
    "model.add(Conv2D(16, (3, 3), padding='same', input_shape=x_train.shape[1:], activation='relu'))\n",
    "model.add(Conv2D(16, (3, 3), strides=(2, 2), padding='same', activation='relu'))\n",
    "model.add(Conv2D(32, (3, 3), padding='same', activation='relu'))\n",
    "model.add(Conv2D(32, (3, 3), strides=(2, 2), padding='same', activation='relu'))\n",
    "model.add(Dropout(0.5))\n",
    "model.add(Flatten())\n",
    "model.add(Dense(num_classes, activation='softmax', kernel_regularizer=regularizers.l1(0.0001)))"
   ]
  },
  {
   "cell_type": "code",
   "execution_count": 18,
   "id": "a344d640",
   "metadata": {},
   "outputs": [
    {
     "name": "stdout",
     "output_type": "stream",
     "text": [
      "Model: \"sequential\"\n",
      "_________________________________________________________________\n",
      " Layer (type)                Output Shape              Param #   \n",
      "=================================================================\n",
      " conv2d (Conv2D)             (None, 32, 32, 16)        448       \n",
      "                                                                 \n",
      " conv2d_1 (Conv2D)           (None, 16, 16, 16)        2320      \n",
      "                                                                 \n",
      " conv2d_2 (Conv2D)           (None, 16, 16, 32)        4640      \n",
      "                                                                 \n",
      " conv2d_3 (Conv2D)           (None, 8, 8, 32)          9248      \n",
      "                                                                 \n",
      " dropout (Dropout)           (None, 8, 8, 32)          0         \n",
      "                                                                 \n",
      " flatten (Flatten)           (None, 2048)              0         \n",
      "                                                                 \n",
      " dense (Dense)               (None, 10)                20490     \n",
      "                                                                 \n",
      "=================================================================\n",
      "Total params: 37,146\n",
      "Trainable params: 37,146\n",
      "Non-trainable params: 0\n",
      "_________________________________________________________________\n"
     ]
    }
   ],
   "source": [
    "model.compile(loss=\"categorical_crossentropy\", optimizer='adam', metrics=[\"accuracy\"])\n",
    "model.summary()"
   ]
  },
  {
   "cell_type": "code",
   "execution_count": 20,
   "id": "2b0e7c0c",
   "metadata": {},
   "outputs": [
    {
     "name": "stdout",
     "output_type": "stream",
     "text": [
      "Epoch 1/20\n",
      "36/36 [==============================] - 4s 88ms/step - loss: 2.3054 - accuracy: 0.1476 - val_loss: 2.2451 - val_accuracy: 0.2040\n",
      "Epoch 2/20\n",
      "36/36 [==============================] - 5s 140ms/step - loss: 2.0229 - accuracy: 0.2816 - val_loss: 1.8635 - val_accuracy: 0.3780\n",
      "Epoch 3/20\n",
      "36/36 [==============================] - 4s 104ms/step - loss: 1.8500 - accuracy: 0.3450 - val_loss: 1.8094 - val_accuracy: 0.3820\n",
      "Epoch 4/20\n",
      "36/36 [==============================] - 4s 102ms/step - loss: 1.7279 - accuracy: 0.4070 - val_loss: 1.6907 - val_accuracy: 0.4540\n",
      "Epoch 5/20\n",
      "36/36 [==============================] - 4s 101ms/step - loss: 1.6524 - accuracy: 0.4270 - val_loss: 1.6524 - val_accuracy: 0.4700\n",
      "Epoch 6/20\n",
      "36/36 [==============================] - 6s 168ms/step - loss: 1.6035 - accuracy: 0.4461 - val_loss: 1.6551 - val_accuracy: 0.4520\n",
      "Epoch 7/20\n",
      "36/36 [==============================] - 5s 133ms/step - loss: 1.5811 - accuracy: 0.4497 - val_loss: 1.5840 - val_accuracy: 0.4960\n",
      "Epoch 8/20\n",
      "36/36 [==============================] - 4s 118ms/step - loss: 1.5097 - accuracy: 0.4712 - val_loss: 1.6701 - val_accuracy: 0.4500\n",
      "Epoch 9/20\n",
      "36/36 [==============================] - 3s 97ms/step - loss: 1.4802 - accuracy: 0.4943 - val_loss: 1.5911 - val_accuracy: 0.4780\n",
      "Epoch 10/20\n",
      "36/36 [==============================] - 1s 25ms/step - loss: 1.4443 - accuracy: 0.4934 - val_loss: 1.5600 - val_accuracy: 0.4980\n",
      "Epoch 11/20\n",
      "36/36 [==============================] - 2s 45ms/step - loss: 1.4033 - accuracy: 0.5157 - val_loss: 1.5199 - val_accuracy: 0.4960\n",
      "Epoch 12/20\n",
      "36/36 [==============================] - 3s 88ms/step - loss: 1.3664 - accuracy: 0.5239 - val_loss: 1.5414 - val_accuracy: 0.4860\n",
      "Epoch 13/20\n",
      "36/36 [==============================] - 5s 145ms/step - loss: 1.3516 - accuracy: 0.5372 - val_loss: 1.5199 - val_accuracy: 0.4960\n",
      "Epoch 14/20\n",
      "36/36 [==============================] - 6s 156ms/step - loss: 1.3109 - accuracy: 0.5515 - val_loss: 1.4965 - val_accuracy: 0.5200\n",
      "Epoch 15/20\n",
      "36/36 [==============================] - 5s 149ms/step - loss: 1.3067 - accuracy: 0.5548 - val_loss: 1.5192 - val_accuracy: 0.5040\n",
      "Epoch 16/20\n",
      "36/36 [==============================] - 2s 53ms/step - loss: 1.2677 - accuracy: 0.5699 - val_loss: 1.5471 - val_accuracy: 0.4800\n",
      "Epoch 17/20\n",
      "36/36 [==============================] - 3s 68ms/step - loss: 1.2741 - accuracy: 0.5617 - val_loss: 1.4940 - val_accuracy: 0.5000\n",
      "Epoch 18/20\n",
      "36/36 [==============================] - 5s 147ms/step - loss: 1.2099 - accuracy: 0.5844 - val_loss: 1.4767 - val_accuracy: 0.5200\n",
      "Epoch 19/20\n",
      "36/36 [==============================] - 4s 99ms/step - loss: 1.2088 - accuracy: 0.5844 - val_loss: 1.5002 - val_accuracy: 0.5080\n",
      "Epoch 20/20\n",
      "36/36 [==============================] - 4s 110ms/step - loss: 1.1804 - accuracy: 0.5961 - val_loss: 1.5075 - val_accuracy: 0.5080\n"
     ]
    },
    {
     "name": "stderr",
     "output_type": "stream",
     "text": [
      "WARNING:absl:Found untraced functions such as _jit_compiled_convolution_op, _jit_compiled_convolution_op, _jit_compiled_convolution_op, _jit_compiled_convolution_op while saving (showing 4 of 4). These functions will not be directly callable after loading.\n"
     ]
    },
    {
     "name": "stdout",
     "output_type": "stream",
     "text": [
      "INFO:tensorflow:Assets written to: cifar.model\\assets\n"
     ]
    },
    {
     "name": "stderr",
     "output_type": "stream",
     "text": [
      "INFO:tensorflow:Assets written to: cifar.model\\assets\n"
     ]
    },
    {
     "data": {
      "image/png": "[encoded data removed]",
      "text/plain": [
       "<Figure size 640x480 with 2 Axes>"
      ]
     },
     "metadata": {},
     "output_type": "display_data"
    }
   ],
   "source": [
    "batch_size = 128\n",
    "epochs = 20\n",
    "history = model.fit(x_train, y_train, batch_size=batch_size, epochs=epochs, validation_split=0.1)\n",
    "model.save(\"cifar.model\")\n",
    "plt.subplot(211)\n",
    "plt.plot(history.history['accuracy'])\n",
    "plt.plot(history.history['val_accuracy'])\n",
    "plt.title('model accuracy')\n",
    "plt.ylabel('accuracy')\n",
    "plt.xlabel('epoch')\n",
    "plt.legend(['train', 'val'], loc='upper left')\n",
    "plt.subplot(212)\n",
    "plt.plot(history.history['loss'])\n",
    "plt.plot(history.history['val_loss'])\n",
    "plt.title('model loss')\n",
    "plt.ylabel('loss')\n",
    "plt.xlabel('epoch')\n",
    "plt.legend(['train', 'val'], loc='upper left')\n",
    "plt.show()"
   ]
  },
  {
   "cell_type": "code",
   "execution_count": null,
   "id": "15469dd6",
   "metadata": {},
   "outputs": [],
   "source": [
    "preds = model.predict(x_train)\n",
    "y_pred = np.argmax(preds, axis=1)\n",
    "y_train1 = np.argmax(y_train, axis=1)\n",
    "print(classification_report(y_train1, y_pred))\n",
    "print(confusion_matrix(y_train1, y_pred))\n",
    "\n",
    "preds = model.predict(x_test)\n",
    "y_pred = np.argmax(preds, axis=1)\n",
    "y_test1 = np.argmax(y_test, axis=1)\n",
    "print(classification_report(y_test1, y_pred))\n",
    "print(confusion_matrix(y_test1, y_pred))\n"
   ]
  },
  {
   "cell_type": "markdown",
   "id": "30aafc2f",
   "metadata": {},
   "source": [
    "## b. 3"
   ]
  },
  {
   "cell_type": "code",
   "execution_count": 25,
   "id": "82e8ca92",
   "metadata": {},
   "outputs": [],
   "source": [
    "(x_train, y_train), (x_test, y_test) = keras.datasets.cifar10.load_data()\n",
    "\n",
    "import time"
   ]
  },
  {
   "cell_type": "code",
   "execution_count": 36,
   "id": "72846d70",
   "metadata": {},
   "outputs": [],
   "source": [
    "def draw_model(n, x_train, y_train, x_test, y_test):\n",
    "    x_train = x_train[1:n]\n",
    "    y_train = y_train[1:n]\n",
    "\n",
    "    x_train = x_train.astype(\"float32\") / 255\n",
    "    x_test = x_test.astype(\"float32\") / 255\n",
    "    print(\"orig x_train shape:\", x_train.shape)\n",
    "\n",
    "    # convert class vectors to binary class matrices\n",
    "    y_train = keras.utils.to_categorical(y_train, num_classes)\n",
    "    y_test = keras.utils.to_categorical(y_test, num_classes)\n",
    "\n",
    "    model = keras.Sequential()\n",
    "\n",
    "    model.add(Conv2D(16, (3, 3), padding='same', input_shape=x_train.shape[1:], activation='relu'))\n",
    "    model.add(Conv2D(16, (3, 3), strides=(2, 2), padding='same', activation='relu'))\n",
    "    model.add(Conv2D(32, (3, 3), padding='same', activation='relu'))\n",
    "    model.add(Conv2D(32, (3, 3), strides=(2, 2), padding='same', activation='relu'))\n",
    "    model.add(Dropout(0.5))\n",
    "    model.add(Flatten())\n",
    "    model.add(Dense(num_classes, activation='softmax', kernel_regularizer=regularizers.l1(0.0001)))\n",
    "\n",
    "    model.compile(loss=\"categorical_crossentropy\", optimizer='adam', metrics=[\"accuracy\"])\n",
    "    model.summary()\n",
    "\n",
    "    batch_size = 128\n",
    "    epochs = 20\n",
    "    \n",
    "    start = time.time()\n",
    "    history = model.fit(x_train, y_train, batch_size=batch_size, epochs=epochs, validation_split=0.1)\n",
    "    end = time.time()\n",
    "    print('{} data, time of execution = {} min {} s'.format(n, int((end - start) / 60), int((end - start) % 60)))\n",
    "    \n",
    "    model.save(\"cifar.model\")\n",
    "    plt.subplot(211)\n",
    "    plt.plot(history.history['accuracy'])\n",
    "    plt.plot(history.history['val_accuracy'])\n",
    "    plt.title('model accuracy')\n",
    "    plt.ylabel('accuracy')\n",
    "    plt.xlabel('epoch')\n",
    "    plt.legend(['train', 'val'], loc='upper left')\n",
    "    plt.subplot(212)\n",
    "    plt.plot(history.history['loss'])\n",
    "    plt.plot(history.history['val_loss'])\n",
    "    plt.title('model loss')\n",
    "    plt.ylabel('loss')\n",
    "    plt.xlabel('epoch')\n",
    "    plt.legend(['train', 'val'], loc='upper left')\n",
    "    plt.show()"
   ]
  },
  {
   "cell_type": "code",
   "execution_count": 35,
   "id": "2b7e3467",
   "metadata": {},
   "outputs": [
    {
     "name": "stdout",
     "output_type": "stream",
     "text": [
      "orig x_train shape: (4999, 32, 32, 3)\n",
      "Model: \"sequential_6\"\n",
      "_________________________________________________________________\n",
      " Layer (type)                Output Shape              Param #   \n",
      "=================================================================\n",
      " conv2d_24 (Conv2D)          (None, 32, 32, 16)        448       \n",
      "                                                                 \n",
      " conv2d_25 (Conv2D)          (None, 16, 16, 16)        2320      \n",
      "                                                                 \n",
      " conv2d_26 (Conv2D)          (None, 16, 16, 32)        4640      \n",
      "                                                                 \n",
      " conv2d_27 (Conv2D)          (None, 8, 8, 32)          9248      \n",
      "                                                                 \n",
      " dropout_6 (Dropout)         (None, 8, 8, 32)          0         \n",
      "                                                                 \n",
      " flatten_6 (Flatten)         (None, 2048)              0         \n",
      "                                                                 \n",
      " dense_6 (Dense)             (None, 10)                20490     \n",
      "                                                                 \n",
      "=================================================================\n",
      "Total params: 37,146\n",
      "Trainable params: 37,146\n",
      "Non-trainable params: 0\n",
      "_________________________________________________________________\n",
      "Epoch 1/20\n",
      "36/36 [==============================] - 6s 154ms/step - loss: 2.2842 - accuracy: 0.1647 - val_loss: 2.0352 - val_accuracy: 0.2740\n",
      "Epoch 2/20\n",
      "36/36 [==============================] - 5s 137ms/step - loss: 1.9857 - accuracy: 0.2947 - val_loss: 1.8455 - val_accuracy: 0.3560\n",
      "Epoch 3/20\n",
      "36/36 [==============================] - 5s 139ms/step - loss: 1.8386 - accuracy: 0.3525 - val_loss: 1.7522 - val_accuracy: 0.3940\n",
      "Epoch 4/20\n",
      "36/36 [==============================] - 5s 128ms/step - loss: 1.7444 - accuracy: 0.3852 - val_loss: 1.7785 - val_accuracy: 0.4000\n",
      "Epoch 5/20\n",
      "36/36 [==============================] - 4s 115ms/step - loss: 1.6820 - accuracy: 0.4168 - val_loss: 1.6610 - val_accuracy: 0.4380\n",
      "Epoch 6/20\n",
      "36/36 [==============================] - 4s 121ms/step - loss: 1.6272 - accuracy: 0.4359 - val_loss: 1.6598 - val_accuracy: 0.4400\n",
      "Epoch 7/20\n",
      "36/36 [==============================] - 5s 131ms/step - loss: 1.5749 - accuracy: 0.4537 - val_loss: 1.5977 - val_accuracy: 0.4920\n",
      "Epoch 8/20\n",
      "36/36 [==============================] - 3s 92ms/step - loss: 1.5614 - accuracy: 0.4539 - val_loss: 1.6470 - val_accuracy: 0.4560\n",
      "Epoch 9/20\n",
      "36/36 [==============================] - 5s 146ms/step - loss: 1.5517 - accuracy: 0.4619 - val_loss: 1.5845 - val_accuracy: 0.4860\n",
      "Epoch 10/20\n",
      "36/36 [==============================] - 6s 167ms/step - loss: 1.4933 - accuracy: 0.4730 - val_loss: 1.5325 - val_accuracy: 0.4960\n",
      "Epoch 11/20\n",
      "36/36 [==============================] - 5s 132ms/step - loss: 1.4536 - accuracy: 0.4912 - val_loss: 1.5898 - val_accuracy: 0.4820\n",
      "Epoch 12/20\n",
      "36/36 [==============================] - 5s 146ms/step - loss: 1.4357 - accuracy: 0.5019 - val_loss: 1.5032 - val_accuracy: 0.5140\n",
      "Epoch 13/20\n",
      "36/36 [==============================] - 4s 113ms/step - loss: 1.4021 - accuracy: 0.5130 - val_loss: 1.5435 - val_accuracy: 0.4680\n",
      "Epoch 14/20\n",
      "36/36 [==============================] - 4s 119ms/step - loss: 1.3917 - accuracy: 0.5186 - val_loss: 1.5737 - val_accuracy: 0.4700\n",
      "Epoch 15/20\n",
      "36/36 [==============================] - 5s 150ms/step - loss: 1.3688 - accuracy: 0.5230 - val_loss: 1.5354 - val_accuracy: 0.4840\n",
      "Epoch 16/20\n",
      "36/36 [==============================] - 5s 146ms/step - loss: 1.3352 - accuracy: 0.5335 - val_loss: 1.4877 - val_accuracy: 0.4960\n",
      "Epoch 17/20\n",
      "36/36 [==============================] - 5s 150ms/step - loss: 1.3007 - accuracy: 0.5539 - val_loss: 1.5006 - val_accuracy: 0.4880\n",
      "Epoch 18/20\n",
      "36/36 [==============================] - 4s 128ms/step - loss: 1.2783 - accuracy: 0.5570 - val_loss: 1.4992 - val_accuracy: 0.4740\n",
      "Epoch 19/20\n",
      "36/36 [==============================] - 5s 126ms/step - loss: 1.2758 - accuracy: 0.5621 - val_loss: 1.4932 - val_accuracy: 0.4920\n",
      "Epoch 20/20\n",
      "36/36 [==============================] - 5s 147ms/step - loss: 1.2505 - accuracy: 0.5672 - val_loss: 1.4753 - val_accuracy: 0.5080\n"
     ]
    },
    {
     "ename": "IndexError",
     "evalue": "Replacement index 2 out of range for positional args tuple",
     "output_type": "error",
     "traceback": [
      "\u001b[1;31m---------------------------------------------------------------------------\u001b[0m",
      "\u001b[1;31mIndexError\u001b[0m                                Traceback (most recent call last)",
      "Input \u001b[1;32mIn [35]\u001b[0m, in \u001b[0;36m<cell line: 1>\u001b[1;34m()\u001b[0m\n\u001b[1;32m----> 1\u001b[0m \u001b[43mdraw_model\u001b[49m\u001b[43m(\u001b[49m\u001b[38;5;241;43m5000\u001b[39;49m\u001b[43m,\u001b[49m\u001b[43m \u001b[49m\u001b[43mx_train\u001b[49m\u001b[43m,\u001b[49m\u001b[43m \u001b[49m\u001b[43my_train\u001b[49m\u001b[43m,\u001b[49m\u001b[43m \u001b[49m\u001b[43mx_test\u001b[49m\u001b[43m,\u001b[49m\u001b[43m \u001b[49m\u001b[43my_test\u001b[49m\u001b[43m)\u001b[49m\n",
      "Input \u001b[1;32mIn [34]\u001b[0m, in \u001b[0;36mdraw_model\u001b[1;34m(n, x_train, y_train, x_test, y_test)\u001b[0m\n\u001b[0;32m     30\u001b[0m history \u001b[38;5;241m=\u001b[39m model\u001b[38;5;241m.\u001b[39mfit(x_train, y_train, batch_size\u001b[38;5;241m=\u001b[39mbatch_size, epochs\u001b[38;5;241m=\u001b[39mepochs, validation_split\u001b[38;5;241m=\u001b[39m\u001b[38;5;241m0.1\u001b[39m)\n\u001b[0;32m     31\u001b[0m end \u001b[38;5;241m=\u001b[39m time\u001b[38;5;241m.\u001b[39mtime()\n\u001b[1;32m---> 32\u001b[0m \u001b[38;5;28mprint\u001b[39m(\u001b[38;5;124;43m'\u001b[39;49m\u001b[38;5;132;43;01m{}\u001b[39;49;00m\u001b[38;5;124;43m data, time of execution = \u001b[39;49m\u001b[38;5;132;43;01m{}\u001b[39;49;00m\u001b[38;5;124;43m min \u001b[39;49m\u001b[38;5;132;43;01m{}\u001b[39;49;00m\u001b[38;5;124;43m s\u001b[39;49m\u001b[38;5;124;43m'\u001b[39;49m\u001b[38;5;241;43m.\u001b[39;49m\u001b[43mformat\u001b[49m\u001b[43m(\u001b[49m\u001b[38;5;28;43mint\u001b[39;49m\u001b[43m(\u001b[49m\u001b[43m(\u001b[49m\u001b[43mend\u001b[49m\u001b[43m \u001b[49m\u001b[38;5;241;43m-\u001b[39;49m\u001b[43m \u001b[49m\u001b[43mstart\u001b[49m\u001b[43m)\u001b[49m\u001b[43m \u001b[49m\u001b[38;5;241;43m/\u001b[39;49m\u001b[43m \u001b[49m\u001b[38;5;241;43m60\u001b[39;49m\u001b[43m)\u001b[49m\u001b[43m,\u001b[49m\u001b[43m \u001b[49m\u001b[38;5;28;43mint\u001b[39;49m\u001b[43m(\u001b[49m\u001b[43m(\u001b[49m\u001b[43mend\u001b[49m\u001b[43m \u001b[49m\u001b[38;5;241;43m-\u001b[39;49m\u001b[43m \u001b[49m\u001b[43mstart\u001b[49m\u001b[43m)\u001b[49m\u001b[43m \u001b[49m\u001b[38;5;241;43m%\u001b[39;49m\u001b[43m \u001b[49m\u001b[38;5;241;43m60\u001b[39;49m\u001b[43m)\u001b[49m\u001b[43m)\u001b[49m)\n\u001b[0;32m     34\u001b[0m model\u001b[38;5;241m.\u001b[39msave(\u001b[38;5;124m\"\u001b[39m\u001b[38;5;124mcifar.model\u001b[39m\u001b[38;5;124m\"\u001b[39m)\n\u001b[0;32m     35\u001b[0m plt\u001b[38;5;241m.\u001b[39msubplot(\u001b[38;5;241m211\u001b[39m)\n",
      "\u001b[1;31mIndexError\u001b[0m: Replacement index 2 out of range for positional args tuple"
     ]
    }
   ],
   "source": [
    "draw_model(5000, x_train, y_train, x_test, y_test)"
   ]
  }
 ],
 "metadata": {
  "kernelspec": {
   "display_name": "Python (machine_learning)",
   "language": "python",
   "name": "machine_learning"
  },
  "language_info": {
   "codemirror_mode": {
    "name": "ipython",
    "version": 3
   },
   "file_extension": ".py",
   "mimetype": "text/x-python",
   "name": "python",
   "nbconvert_exporter": "python",
   "pygments_lexer": "ipython3",
   "version": "3.8.13"
  }
 },
 "nbformat": 4,
 "nbformat_minor": 5
}
