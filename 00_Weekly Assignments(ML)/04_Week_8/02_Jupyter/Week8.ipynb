{
 "cells": [
  {
   "cell_type": "code",
   "execution_count": 1,
   "id": "1a697048",
   "metadata": {},
   "outputs": [],
   "source": [
    "import numpy as np\n",
    "from PIL import Image"
   ]
  },
  {
   "cell_type": "code",
   "execution_count": 2,
   "id": "f39e3d35",
   "metadata": {},
   "outputs": [],
   "source": [
    "def cv_show(name, img_data):\n",
    "    cv2.imshow(name, img_data)\n",
    "    cv2.waitKey(0)\n",
    "    cv2.destroyAllWindows()\n",
    "\n",
    "\n",
    "def cv_save(name, img_data):\n",
    "    cv2.imwrite(name, img_data)"
   ]
  },
  {
   "cell_type": "code",
   "execution_count": 3,
   "id": "865a44c7",
   "metadata": {},
   "outputs": [],
   "source": [
    "img = Image.open(\"rabbit.png\")\n",
    "img_rgb = np.array(img.convert(\"RGB\"))\n",
    "img_b = img_rgb[:, :, 2]"
   ]
  },
  {
   "cell_type": "code",
   "execution_count": 4,
   "id": "7e2e0ad4",
   "metadata": {},
   "outputs": [],
   "source": [
    "def conv(arr, k):\n",
    "    h, w = arr.shape\n",
    "    new_arr = np.zeros((h, w), dtype=arr.dtype)\n",
    "    kl = len(k)\n",
    "\n",
    "    tmp_arr = np.pad(arr, (1, 1))\n",
    "\n",
    "    for a in range(len(new_arr)):\n",
    "        for b in range(len(new_arr[0])):\n",
    "            tmp = np.sum(np.multiply(tmp_arr[a:a+len(k), b:b + len(k)], k))\n",
    "            new_arr[a][b] = np.clip(tmp, 0.0, 255.0)\n",
    "    return new_arr"
   ]
  },
  {
   "cell_type": "code",
   "execution_count": 5,
   "id": "9aaffd84",
   "metadata": {},
   "outputs": [],
   "source": [
    "kernel_b1 = np.array([[-1, -1, -1],\n",
    "                      [-1, 8, -1],\n",
    "                      [-1, -1, -1], ])\n",
    "kernel_b2 = np.array([[0, -1, 0],\n",
    "                      [-1, 8, -1],\n",
    "                      [0, -1, 0], ])\n",
    "\n",
    "img_b1 = conv(img_b, kernel_b1)\n",
    "img_b2 = conv(img_b, kernel_b2)"
   ]
  },
  {
   "cell_type": "code",
   "execution_count": 6,
   "id": "1a047cea",
   "metadata": {},
   "outputs": [],
   "source": [
    "img_r = Image.fromarray(img_b1)\n",
    "img_r.show()\n",
    "img_r.save(\"img_b1.jpg\")"
   ]
  },
  {
   "cell_type": "code",
   "execution_count": 7,
   "id": "3373c9cc",
   "metadata": {},
   "outputs": [],
   "source": [
    "img_r = Image.fromarray(img_b2)\n",
    "img_r.show()\n",
    "img_r.save(\"img_b2.jpg\")"
   ]
  },
  {
   "cell_type": "markdown",
   "id": "f27814ad",
   "metadata": {},
   "source": [
    "# ii"
   ]
  },
  {
   "cell_type": "code",
   "execution_count": 72,
   "id": "a26cfb0f",
   "metadata": {},
   "outputs": [],
   "source": [
    "import numpy as np\n",
    "import tensorflow as tf\n",
    "from tensorflow import keras\n",
    "from tensorflow.keras import layers, regularizers\n",
    "from keras.layers import Dense, Dropout, Activation, Flatten, BatchNormalization\n",
    "from keras.layers import Conv2D, MaxPooling2D, LeakyReLU\n",
    "from sklearn.metrics import confusion_matrix, classification_report\n",
    "from sklearn.utils import shuffle\n",
    "import time\n",
    "import matplotlib.pyplot as plt"
   ]
  },
  {
   "cell_type": "code",
   "execution_count": 73,
   "id": "66ef0809",
   "metadata": {},
   "outputs": [],
   "source": [
    "plt.rc('font', size=18)\n",
    "plt.rcParams['figure.constrained_layout.use'] = True\n",
    "import sys"
   ]
  },
  {
   "cell_type": "code",
   "execution_count": 74,
   "id": "e87d62c1",
   "metadata": {},
   "outputs": [],
   "source": [
    "# Model / data parameters\n",
    "num_classes = 10\n",
    "input_shape = (32, 32, 3)"
   ]
  },
  {
   "cell_type": "code",
   "execution_count": 75,
   "id": "53731633",
   "metadata": {},
   "outputs": [],
   "source": [
    "(x_train, y_train), (x_test, y_test) = keras.datasets.cifar10.load_data()"
   ]
  },
  {
   "cell_type": "code",
   "execution_count": 76,
   "id": "313401de",
   "metadata": {},
   "outputs": [],
   "source": [
    "n = 5000\n",
    "x_train = x_train[1:n]\n",
    "y_train = y_train[1:n]"
   ]
  },
  {
   "cell_type": "code",
   "execution_count": 77,
   "id": "a3bf253d",
   "metadata": {},
   "outputs": [
    {
     "name": "stdout",
     "output_type": "stream",
     "text": [
      "orig x_train shape: (4999, 32, 32, 3)\n"
     ]
    }
   ],
   "source": [
    "x_train = x_train.astype(\"float32\") / 255\n",
    "x_test = x_test.astype(\"float32\") / 255\n",
    "print(\"orig x_train shape:\", x_train.shape)"
   ]
  },
  {
   "cell_type": "code",
   "execution_count": 78,
   "id": "a8423bcd",
   "metadata": {},
   "outputs": [],
   "source": [
    "# convert class vectors to binary class matrices\n",
    "y_train = keras.utils.to_categorical(y_train, num_classes)\n",
    "y_test = keras.utils.to_categorical(y_test, num_classes)"
   ]
  },
  {
   "cell_type": "code",
   "execution_count": 79,
   "id": "ad30ab59",
   "metadata": {},
   "outputs": [],
   "source": [
    "model = keras.Sequential()"
   ]
  },
  {
   "cell_type": "code",
   "execution_count": 80,
   "id": "43ffea12",
   "metadata": {},
   "outputs": [],
   "source": [
    "model.add(Conv2D(16, (3, 3), padding='same', input_shape=x_train.shape[1:], activation='relu'))\n",
    "model.add(Conv2D(16, (3, 3), padding='same', activation='relu'))\n",
    "model.add(MaxPooling2D(pool_size=(2, 2)))\n",
    "model.add(Conv2D(32, (3, 3), padding='same', activation='relu'))\n",
    "model.add(Conv2D(32, (3, 3), padding='same', activation='relu'))\n",
    "model.add(MaxPooling2D(pool_size=(2, 2)))\n",
    "model.add(Dropout(0.5))\n",
    "model.add(Flatten())\n",
    "model.add(Dense(num_classes, activation='softmax', kernel_regularizer=regularizers.l1(0.0001)))\n",
    "\n",
    "# model.add(Conv2D(16, (3, 3), padding='same', input_shape=x_train.shape[1:], activation='relu'))\n",
    "# model.add(Conv2D(16, (3, 3), strides=(2, 2), padding='same', activation='relu'))\n",
    "# model.add(Conv2D(32, (3, 3), padding='same', activation='relu'))\n",
    "# model.add(Conv2D(32, (3, 3), strides=(2, 2), padding='same', activation='relu'))\n",
    "# model.add(Dropout(0.5))\n",
    "# model.add(Flatten())\n",
    "# model.add(Dense(num_classes, activation='softmax', kernel_regularizer=regularizers.l1(0.0001)))\n",
    "\n",
    "model.add(Conv2D(8,(3,3),padding='same',input_shape=x_train.shape[1:],activation='relu'))\n",
    "model.add(Conv2D(8,(3,3),strides=(2,2),padding='same',activation='relu'))\n",
    "model.add(Conv2D(16,(3,3),padding='same',activation='relu'))\n",
    "model.add(Conv2D(16,(3,3),strides=(2,2),padding='same',activation='relu'))\n",
    "model.add(Conv2D(32,(3,3),padding='same',activation='relu'))\n",
    "model.add(Conv2D(32,(3,3),strides=(2,2),padding='same',activation='relu'))\n",
    "model.add(Dropout(0.5))\n",
    "model.add(Flatten())\n",
    "model.add(Dense(num_classes,activation='softmax',kernel_regularizer=regularizers.l1(0.0001)))"
   ]
  },
  {
   "cell_type": "code",
   "execution_count": 81,
   "id": "a344d640",
   "metadata": {},
   "outputs": [
    {
     "name": "stdout",
     "output_type": "stream",
     "text": [
      "Model: \"sequential_6\"\n",
      "_________________________________________________________________\n",
      " Layer (type)                Output Shape              Param #   \n",
      "=================================================================\n",
      " conv2d_31 (Conv2D)          (None, 32, 32, 8)         224       \n",
      "                                                                 \n",
      " conv2d_32 (Conv2D)          (None, 16, 16, 8)         584       \n",
      "                                                                 \n",
      " conv2d_33 (Conv2D)          (None, 16, 16, 16)        1168      \n",
      "                                                                 \n",
      " conv2d_34 (Conv2D)          (None, 8, 8, 16)          2320      \n",
      "                                                                 \n",
      " conv2d_35 (Conv2D)          (None, 8, 8, 32)          4640      \n",
      "                                                                 \n",
      " conv2d_36 (Conv2D)          (None, 4, 4, 32)          9248      \n",
      "                                                                 \n",
      " dropout_6 (Dropout)         (None, 4, 4, 32)          0         \n",
      "                                                                 \n",
      " flatten_6 (Flatten)         (None, 512)               0         \n",
      "                                                                 \n",
      " dense_5 (Dense)             (None, 10)                5130      \n",
      "                                                                 \n",
      "=================================================================\n",
      "Total params: 23,314\n",
      "Trainable params: 23,314\n",
      "Non-trainable params: 0\n",
      "_________________________________________________________________\n"
     ]
    }
   ],
   "source": [
    "model.compile(loss=\"categorical_crossentropy\", optimizer='adam', metrics=[\"accuracy\"])\n",
    "model.summary()"
   ]
  },
  {
   "cell_type": "code",
   "execution_count": 82,
   "id": "537c9f09",
   "metadata": {},
   "outputs": [
    {
     "name": "stdout",
     "output_type": "stream",
     "text": [
      "Epoch 1/20\n",
      "36/36 [==============================] - 6s 166ms/step - loss: 2.3068 - accuracy: 0.1407 - val_loss: 2.1996 - val_accuracy: 0.2120\n",
      "Epoch 2/20\n",
      "36/36 [==============================] - 4s 95ms/step - loss: 2.1187 - accuracy: 0.2220 - val_loss: 1.9865 - val_accuracy: 0.3080\n",
      "Epoch 3/20\n",
      "36/36 [==============================] - 1s 28ms/step - loss: 1.9723 - accuracy: 0.2850 - val_loss: 2.0219 - val_accuracy: 0.3060\n",
      "Epoch 4/20\n",
      "36/36 [==============================] - 1s 29ms/step - loss: 1.9219 - accuracy: 0.3034 - val_loss: 1.8710 - val_accuracy: 0.3440\n",
      "Epoch 5/20\n",
      "36/36 [==============================] - 1s 39ms/step - loss: 1.8466 - accuracy: 0.3347 - val_loss: 1.7667 - val_accuracy: 0.4020\n",
      "Epoch 6/20\n",
      "36/36 [==============================] - 2s 50ms/step - loss: 1.7745 - accuracy: 0.3536 - val_loss: 1.7271 - val_accuracy: 0.3860\n",
      "Epoch 7/20\n",
      "36/36 [==============================] - 6s 163ms/step - loss: 1.7270 - accuracy: 0.3750 - val_loss: 1.6891 - val_accuracy: 0.4220\n",
      "Epoch 8/20\n",
      "36/36 [==============================] - 6s 168ms/step - loss: 1.7259 - accuracy: 0.3752 - val_loss: 1.6716 - val_accuracy: 0.4080\n",
      "Epoch 9/20\n",
      "36/36 [==============================] - 6s 154ms/step - loss: 1.7035 - accuracy: 0.3870 - val_loss: 1.6719 - val_accuracy: 0.4220\n",
      "Epoch 10/20\n",
      "36/36 [==============================] - 6s 155ms/step - loss: 1.6393 - accuracy: 0.4114 - val_loss: 1.6516 - val_accuracy: 0.4300\n",
      "Epoch 11/20\n",
      "36/36 [==============================] - 6s 164ms/step - loss: 1.6254 - accuracy: 0.4112 - val_loss: 1.8175 - val_accuracy: 0.3400\n",
      "Epoch 12/20\n",
      "36/36 [==============================] - 6s 163ms/step - loss: 1.6250 - accuracy: 0.4201 - val_loss: 1.6266 - val_accuracy: 0.4300\n",
      "Epoch 13/20\n",
      "36/36 [==============================] - 4s 112ms/step - loss: 1.5682 - accuracy: 0.4417 - val_loss: 1.5976 - val_accuracy: 0.4340\n",
      "Epoch 14/20\n",
      "36/36 [==============================] - 6s 167ms/step - loss: 1.5681 - accuracy: 0.4285 - val_loss: 1.5939 - val_accuracy: 0.4540\n",
      "Epoch 15/20\n",
      "36/36 [==============================] - 6s 154ms/step - loss: 1.5351 - accuracy: 0.4517 - val_loss: 1.6777 - val_accuracy: 0.4260\n",
      "Epoch 16/20\n",
      "36/36 [==============================] - 5s 152ms/step - loss: 1.5317 - accuracy: 0.4528 - val_loss: 1.5862 - val_accuracy: 0.4620\n",
      "Epoch 17/20\n",
      "36/36 [==============================] - 6s 156ms/step - loss: 1.5267 - accuracy: 0.4603 - val_loss: 1.6293 - val_accuracy: 0.4520\n",
      "Epoch 18/20\n",
      "36/36 [==============================] - 7s 186ms/step - loss: 1.5110 - accuracy: 0.4674 - val_loss: 1.5702 - val_accuracy: 0.4640\n",
      "Epoch 19/20\n",
      "36/36 [==============================] - 6s 156ms/step - loss: 1.4823 - accuracy: 0.4792 - val_loss: 1.5734 - val_accuracy: 0.4580\n",
      "Epoch 20/20\n",
      "36/36 [==============================] - 6s 167ms/step - loss: 1.4620 - accuracy: 0.4810 - val_loss: 1.5553 - val_accuracy: 0.4740\n",
      "5000 data, time of execution = 1 min 35 s\n"
     ]
    },
    {
     "name": "stderr",
     "output_type": "stream",
     "text": [
      "WARNING:absl:Found untraced functions such as _jit_compiled_convolution_op, _jit_compiled_convolution_op, _jit_compiled_convolution_op, _jit_compiled_convolution_op, _jit_compiled_convolution_op while saving (showing 5 of 6). These functions will not be directly callable after loading.\n"
     ]
    },
    {
     "name": "stdout",
     "output_type": "stream",
     "text": [
      "INFO:tensorflow:Assets written to: cifar.model\\assets\n"
     ]
    },
    {
     "name": "stderr",
     "output_type": "stream",
     "text": [
      "INFO:tensorflow:Assets written to: cifar.model\\assets\n"
     ]
    },
    {
     "data": {
      "image/png": "[encoded data removed]",
      "text/plain": [
       "<Figure size 640x480 with 2 Axes>"
      ]
     },
     "metadata": {},
     "output_type": "display_data"
    }
   ],
   "source": [
    "batch_size = 128\n",
    "epochs = 20\n",
    "\n",
    "start = time.time()\n",
    "history = model.fit(x_train, y_train, batch_size=batch_size, epochs=epochs, validation_split=0.1)\n",
    "end = time.time()\n",
    "print('{} data, time of execution = {} min {} s'.format(n, int((end - start) / 60), int((end - start) % 60)))\n",
    "    \n",
    "\n",
    "model.save(\"cifar.model\")\n",
    "plt.subplot(211)\n",
    "plt.plot(history.history['accuracy'])\n",
    "plt.plot(history.history['val_accuracy'])\n",
    "plt.title('model accuracy')\n",
    "plt.ylabel('accuracy')\n",
    "plt.xlabel('epoch')\n",
    "plt.legend(['train', 'val'], loc='upper left')\n",
    "plt.subplot(212)\n",
    "plt.plot(history.history['loss'])\n",
    "plt.plot(history.history['val_loss'])\n",
    "plt.title('model loss')\n",
    "plt.ylabel('loss')\n",
    "plt.xlabel('epoch')\n",
    "plt.legend(['train', 'val'], loc='upper left')\n",
    "plt.show()"
   ]
  },
  {
   "cell_type": "code",
   "execution_count": null,
   "id": "2008ca26",
   "metadata": {},
   "outputs": [],
   "source": [
    "preds = model.predict(x_train)\n",
    "y_pred = np.argmax(preds, axis=1)\n",
    "y_train1 = np.argmax(y_train, axis=1)\n",
    "print(classification_report(y_train1, y_pred))\n",
    "print(confusion_matrix(y_train1, y_pred))\n",
    "\n",
    "preds = model.predict(x_test)\n",
    "y_pred = np.argmax(preds, axis=1)\n",
    "y_test1 = np.argmax(y_test, axis=1)\n",
    "print(classification_report(y_test1, y_pred))\n",
    "print(confusion_matrix(y_test1, y_pred))\n"
   ]
  },
  {
   "cell_type": "markdown",
   "id": "30aafc2f",
   "metadata": {},
   "source": [
    "## b. 3"
   ]
  },
  {
   "cell_type": "code",
   "execution_count": null,
   "id": "b2438784",
   "metadata": {},
   "outputs": [],
   "source": [
    "(x_train, y_train), (x_test, y_test) = keras.datasets.cifar10.load_data()\n",
    "\n",
    "import time"
   ]
  },
  {
   "cell_type": "code",
   "execution_count": null,
   "id": "99cf4a5f",
   "metadata": {},
   "outputs": [],
   "source": [
    "def draw_model(n, x_train, y_train, x_test, y_test):\n",
    "    x_train = x_train[1:n]\n",
    "    y_train = y_train[1:n]\n",
    "\n",
    "    x_train = x_train.astype(\"float32\") / 255\n",
    "    x_test = x_test.astype(\"float32\") / 255\n",
    "    print(\"orig x_train shape:\", x_train.shape)\n",
    "\n",
    "    # convert class vectors to binary class matrices\n",
    "    y_train = keras.utils.to_categorical(y_train, num_classes)\n",
    "    y_test = keras.utils.to_categorical(y_test, num_classes)\n",
    "\n",
    "    model = keras.Sequential()\n",
    "\n",
    "    model.add(Conv2D(16, (3, 3), padding='same', input_shape=x_train.shape[1:], activation='relu'))\n",
    "    model.add(Conv2D(16, (3, 3), strides=(2, 2), padding='same', activation='relu'))\n",
    "    model.add(Conv2D(32, (3, 3), padding='same', activation='relu'))\n",
    "    model.add(Conv2D(32, (3, 3), strides=(2, 2), padding='same', activation='relu'))\n",
    "    model.add(Dropout(0.5))\n",
    "    model.add(Flatten())\n",
    "    model.add(Dense(num_classes, activation='softmax', kernel_regularizer=regularizers.l1(0.0001)))\n",
    "\n",
    "    model.compile(loss=\"categorical_crossentropy\", optimizer='adam', metrics=[\"accuracy\"])\n",
    "    model.summary()\n",
    "\n",
    "    batch_size = 128\n",
    "    epochs = 20\n",
    "    \n",
    "    start = time.time()\n",
    "    history = model.fit(x_train, y_train, batch_size=batch_size, epochs=epochs, validation_split=0.1)\n",
    "    end = time.time()\n",
    "    print('{} data, time of execution = {} min {} s'.format(n, int((end - start) / 60), int((end - start) % 60)))\n",
    "    \n",
    "    model.save(\"cifar.model\")\n",
    "    plt.subplot(211)\n",
    "    plt.plot(history.history['accuracy'])\n",
    "    plt.plot(history.history['val_accuracy'])\n",
    "    plt.title('model accuracy')\n",
    "    plt.ylabel('accuracy')\n",
    "    plt.xlabel('epoch')\n",
    "    plt.legend(['train', 'val'], loc='upper left')\n",
    "    plt.subplot(212)\n",
    "    plt.plot(history.history['loss'])\n",
    "    plt.plot(history.history['val_loss'])\n",
    "    plt.title('model loss')\n",
    "    plt.ylabel('loss')\n",
    "    plt.xlabel('epoch')\n",
    "    plt.legend(['train', 'val'], loc='upper left')\n",
    "    plt.show()"
   ]
  },
  {
   "cell_type": "code",
   "execution_count": null,
   "id": "21d89f81",
   "metadata": {
    "scrolled": false
   },
   "outputs": [],
   "source": [
    "draw_model(5000, x_train, y_train, x_test, y_test)"
   ]
  },
  {
   "cell_type": "code",
   "execution_count": null,
   "id": "722f569a",
   "metadata": {
    "scrolled": false
   },
   "outputs": [],
   "source": [
    "draw_model(10000, x_train, y_train, x_test, y_test)"
   ]
  },
  {
   "cell_type": "code",
   "execution_count": null,
   "id": "6b9a3f22",
   "metadata": {
    "scrolled": false
   },
   "outputs": [],
   "source": [
    "draw_model(20000, x_train, y_train, x_test, y_test)"
   ]
  },
  {
   "cell_type": "code",
   "execution_count": null,
   "id": "5f2178d8",
   "metadata": {
    "scrolled": false
   },
   "outputs": [],
   "source": [
    "draw_model(40000, x_train, y_train, x_test, y_test)"
   ]
  },
  {
   "cell_type": "code",
   "execution_count": null,
   "id": "10b89781",
   "metadata": {},
   "outputs": [],
   "source": [
    "def draw_model_2(num, x_train, y_train, x_test, y_test):\n",
    "    n = 5000\n",
    "    x_train = x_train[1:n]\n",
    "    y_train = y_train[1:n]\n",
    "\n",
    "    x_train = x_train.astype(\"float32\") / 255\n",
    "    x_test = x_test.astype(\"float32\") / 255\n",
    "    print(\"orig x_train shape:\", x_train.shape)\n",
    "\n",
    "    # convert class vectors to binary class matrices\n",
    "    y_train = keras.utils.to_categorical(y_train, num_classes)\n",
    "    y_test = keras.utils.to_categorical(y_test, num_classes)\n",
    "\n",
    "    model = keras.Sequential()\n",
    "\n",
    "    model.add(Conv2D(16, (3, 3), padding='same', input_shape=x_train.shape[1:], activation='relu'))\n",
    "    model.add(Conv2D(16, (3, 3), strides=(2, 2), padding='same', activation='relu'))\n",
    "    model.add(Conv2D(32, (3, 3), padding='same', activation='relu'))\n",
    "    model.add(Conv2D(32, (3, 3), strides=(2, 2), padding='same', activation='relu'))\n",
    "    model.add(Dropout(0.5))\n",
    "    model.add(Flatten())\n",
    "    model.add(Dense(num_classes, activation='softmax', kernel_regularizer=regularizers.l1(0.0001)))\n",
    "\n",
    "    model.compile(loss=\"categorical_crossentropy\", optimizer='adam', metrics=[\"accuracy\"])\n",
    "    model.summary()\n",
    "\n",
    "    batch_size = 128\n",
    "    epochs = 20\n",
    "    \n",
    "    start = time.time()\n",
    "    history = model.fit(x_train, y_train, batch_size=batch_size, epochs=epochs, validation_split=0.1)\n",
    "    end = time.time()\n",
    "    print('{} data, time of execution = {} min {} s'.format(n, int((end - start) / 60), int((end - start) % 60)))\n",
    "    \n",
    "    model.save(\"cifar.model\")\n",
    "    plt.subplot(211)\n",
    "    plt.plot(history.history['accuracy'])\n",
    "    plt.plot(history.history['val_accuracy'])\n",
    "    plt.title('model accuracy')\n",
    "    plt.ylabel('accuracy')\n",
    "    plt.xlabel('epoch')\n",
    "    plt.legend(['train', 'val'], loc='upper left')\n",
    "    plt.subplot(212)\n",
    "    plt.plot(history.history['loss'])\n",
    "    plt.plot(history.history['val_loss'])\n",
    "    plt.title('model loss')\n",
    "    plt.ylabel('loss')\n",
    "    plt.xlabel('epoch')\n",
    "    plt.legend(['train', 'val'], loc='upper left')\n",
    "    plt.show()"
   ]
  },
  {
   "cell_type": "code",
   "execution_count": null,
   "id": "37b1c86f",
   "metadata": {
    "scrolled": false
   },
   "outputs": [],
   "source": [
    "draw_model_2(0.0001, x_train, y_train, x_test, y_test)"
   ]
  },
  {
   "cell_type": "code",
   "execution_count": null,
   "id": "85d400ba",
   "metadata": {},
   "outputs": [],
   "source": [
    "draw_model_2(0.001, x_train, y_train, x_test, y_test)"
   ]
  },
  {
   "cell_type": "code",
   "execution_count": null,
   "id": "6a98c5d6",
   "metadata": {},
   "outputs": [],
   "source": [
    "draw_model_2(0.01, x_train, y_train, x_test, y_test)"
   ]
  },
  {
   "cell_type": "code",
   "execution_count": null,
   "id": "00fce3cc",
   "metadata": {},
   "outputs": [],
   "source": [
    "draw_model_2(0.1, x_train, y_train, x_test, y_test)"
   ]
  },
  {
   "cell_type": "code",
   "execution_count": null,
   "id": "09b50445",
   "metadata": {},
   "outputs": [],
   "source": [
    "draw_model_2(0, x_train, y_train, x_test, y_test)"
   ]
  },
  {
   "cell_type": "code",
   "execution_count": null,
   "id": "f5ab3c10",
   "metadata": {
    "scrolled": false
   },
   "outputs": [],
   "source": [
    "draw_model_2(1, x_train, y_train, x_test, y_test)"
   ]
  },
  {
   "cell_type": "code",
   "execution_count": null,
   "id": "18f6d901",
   "metadata": {},
   "outputs": [],
   "source": [
    "draw_model_2(10, x_train, y_train, x_test, y_test)"
   ]
  }
 ],
 "metadata": {
  "kernelspec": {
   "display_name": "Python (machine_learning)",
   "language": "python",
   "name": "machine_learning"
  },
  "language_info": {
   "codemirror_mode": {
    "name": "ipython",
    "version": 3
   },
   "file_extension": ".py",
   "mimetype": "text/x-python",
   "name": "python",
   "nbconvert_exporter": "python",
   "pygments_lexer": "ipython3",
   "version": "3.8.13"
  }
 },
 "nbformat": 4,
 "nbformat_minor": 5
}
