{
 "cells": [
  {
   "cell_type": "code",
   "execution_count": 1,
   "id": "8624cde1",
   "metadata": {},
   "outputs": [],
   "source": [
    "import pandas as pd\n",
    "import numpy as np\n",
    "\n",
    "import seaborn as sns\n",
    "from sklearn.metrics import f1_score\n",
    "from sklearn.metrics import mean_squared_error, mean_absolute_error, r2_score\n",
    "\n",
    "from sklearn.linear_model import LinearRegression\n",
    "from sklearn.svm import SVR\n",
    "from sklearn.model_selection import train_test_split\n",
    "from sklearn.ensemble import BaggingRegressor\n",
    "from sklearn.ensemble import RandomForestRegressor\n",
    "import matplotlib.pyplot as plt\n",
    "from sklearn.tree import DecisionTreeRegressor\n",
    "from sklearn.dummy import DummyRegressor\n",
    "\n",
    "from sklearn.model_selection import cross_val_score\n",
    "from sklearn.model_selection import KFold\n",
    "from sklearn import linear_model\n",
    "import math\n",
    "from sklearn.linear_model import LinearRegression, Lasso, ElasticNet\n",
    "\n",
    "from sklearn.preprocessing import PolynomialFeatures"
   ]
  },
  {
   "cell_type": "code",
   "execution_count": 11,
   "id": "670782da",
   "metadata": {},
   "outputs": [],
   "source": [
    "data = pd.read_csv('../../June19_cleaned.csv')"
   ]
  },
  {
   "cell_type": "code",
   "execution_count": 12,
   "id": "6481edc9",
   "metadata": {},
   "outputs": [],
   "source": [
    "features = [\n",
    " 'host_is_superhost',\n",
    " 'host_listings_count',\n",
    " 'host_total_listings_count',\n",
    " 'host_has_profile_pic',\n",
    " 'host_identity_verified',\n",
    " 'is_location_exact',\n",
    " 'accommodates',\n",
    " 'bathrooms',\n",
    " 'bedrooms',\n",
    " 'beds',\n",
    " 'price',\n",
    " 'security_deposit',\n",
    " 'cleaning_fee',\n",
    " 'guests_included',\n",
    " 'extra_people',\n",
    " 'minimum_nights_avg_ntm',\n",
    " 'maximum_nights_avg_ntm',\n",
    " 'availability_365',\n",
    " 'number_of_reviews',\n",
    " 'number_of_reviews_ltm',\n",
    " 'requires_license',\n",
    " 'instant_bookable',\n",
    " 'is_business_travel_ready',\n",
    " 'require_guest_profile_picture',\n",
    " 'require_guest_phone_verification',\n",
    " 'calculated_host_listings_count',\n",
    " 'reviews_per_month',\n",
    "]"
   ]
  },
  {
   "cell_type": "code",
   "execution_count": 13,
   "id": "91ec82e6",
   "metadata": {},
   "outputs": [],
   "source": [
    "# Select target\n",
    "target = 'review_scores_rating'\n",
    "\n",
    "df = data[features]\n",
    "\n",
    "def norm(data_col):\n",
    "    data_col = data_col / data_col.max()\n",
    "\n",
    "# 对每一列进行正则化\n",
    "for col in df.columns:\n",
    "    norm(df[col])\n",
    "\n",
    "# Separate features and target\n",
    "X = df[features]\n",
    "\n",
    "y = data[target]\n",
    "norm(y)"
   ]
  },
  {
   "cell_type": "code",
   "execution_count": 14,
   "id": "8b113b3b",
   "metadata": {},
   "outputs": [],
   "source": [
    "# Split train and test sets\n",
    "X_train, X_test, y_train, y_test = train_test_split(X, y, test_size=0.2, random_state=0)"
   ]
  },
  {
   "cell_type": "code",
   "execution_count": 15,
   "id": "459d9ab7",
   "metadata": {},
   "outputs": [
    {
     "data": {
      "text/plain": [
       "(6514, 27)"
      ]
     },
     "execution_count": 15,
     "metadata": {},
     "output_type": "execute_result"
    }
   ],
   "source": [
    "X_train.shape"
   ]
  },
  {
   "cell_type": "code",
   "execution_count": 17,
   "id": "2ca01425",
   "metadata": {},
   "outputs": [
    {
     "name": "stdout",
     "output_type": "stream",
     "text": [
      "Linear Regression MSE: 64.30\n",
      "Logistic Regression MAE: 5.08\n",
      "Logistic Regression R2: 0.08\n",
      "Support Vector Regressor MSE: 77.11\n",
      "Support Vector Regressor MAE: 5.34\n",
      "Support Vector Regressor R2: -0.10\n",
      "Bagging Regressor with Decision Trees MSE: 69.20\n",
      "Bagging Regressor with Decision Trees MAE: 5.08\n",
      "Bagging Regressor with Decision Trees R2: 0.01\n",
      "Random Forest Regressor MSE: 62.48\n",
      "Random Forest Regressor MAE: 4.91\n",
      "Random Forest Regressor R2: 0.11\n"
     ]
    }
   ],
   "source": [
    "# Evaluate model using MSE, MAE and R2\n",
    "from sklearn.metrics import mean_squared_error, mean_absolute_error, r2_score\n",
    "\n",
    "# Linear Regression\n",
    "from sklearn.linear_model import LinearRegression\n",
    "lr = LinearRegression()\n",
    "lr.fit(X_train, y_train)\n",
    "y_pred_lr = lr.predict(X_test)\n",
    "lr_mse = mean_squared_error(y_test, y_pred_lr)\n",
    "lr_mae = mean_absolute_error(y_test, y_pred_lr)\n",
    "lr_r2 = r2_score(y_test, y_pred_lr)\n",
    "\n",
    "# Support Vector Regressor\n",
    "from sklearn.svm import SVR\n",
    "svr = SVR()\n",
    "svr.fit(X_train, y_train)\n",
    "y_pred_svr = svr.predict(X_test)\n",
    "svr_mse = mean_squared_error(y_test, y_pred_svr)\n",
    "svr_mae = mean_absolute_error(y_test, y_pred_svr)\n",
    "svr_r2 = r2_score(y_test, y_pred_svr)\n",
    "\n",
    "# Bagging Regressor with Decision Trees\n",
    "from sklearn.ensemble import BaggingRegressor\n",
    "bagging = BaggingRegressor(DecisionTreeRegressor())\n",
    "bagging.fit(X_train, y_train)\n",
    "y_pred_bagging = bagging.predict(X_test)\n",
    "bagging_mse = mean_squared_error(y_test, y_pred_bagging)\n",
    "bagging_mae = mean_absolute_error(y_test, y_pred_bagging)\n",
    "bagging_r2 = r2_score(y_test, y_pred_bagging)\n",
    "\n",
    "# Random Forest Regressor\n",
    "from sklearn.ensemble import RandomForestRegressor\n",
    "rf = RandomForestRegressor()\n",
    "rf.fit(X_train, y_train)\n",
    "y_pred_rf = rf.predict(X_test)\n",
    "rf_mse = mean_squared_error(y_test, y_pred_rf)\n",
    "rf_mae = mean_absolute_error(y_test, y_pred_rf)\n",
    "rf_r2 = r2_score(y_test, y_pred_rf)\n",
    "\n",
    "# Compare results\n",
    "print('Linear Regression MSE: {:.2f}'.format(lr_mse))\n",
    "print('Logistic Regression MAE: {:.2f}'.format(lr_mae))\n",
    "print('Logistic Regression R2: {:.2f}'.format(lr_r2))\n",
    "print('Support Vector Regressor MSE: {:.2f}'.format(svr_mse))\n",
    "print('Support Vector Regressor MAE: {:.2f}'.format(svr_mae))\n",
    "print('Support Vector Regressor R2: {:.2f}'.format(svr_r2))\n",
    "print('Bagging Regressor with Decision Trees MSE: {:.2f}'.format(bagging_mse))\n",
    "print('Bagging Regressor with Decision Trees MAE: {:.2f}'.format(bagging_mae))\n",
    "print('Bagging Regressor with Decision Trees R2: {:.2f}'.format(bagging_r2))\n",
    "print('Random Forest Regressor MSE: {:.2f}'.format(rf_mse))\n",
    "print('Random Forest Regressor MAE: {:.2f}'.format(rf_mae))\n",
    "print('Random Forest Regressor R2: {:.2f}'.format(rf_r2))"
   ]
  }
 ],
 "metadata": {
  "kernelspec": {
   "display_name": "Python (machine_learning)",
   "language": "python",
   "name": "machine_learning"
  },
  "language_info": {
   "codemirror_mode": {
    "name": "ipython",
    "version": 3
   },
   "file_extension": ".py",
   "mimetype": "text/x-python",
   "name": "python",
   "nbconvert_exporter": "python",
   "pygments_lexer": "ipython3",
   "version": "3.8.13"
  }
 },
 "nbformat": 4,
 "nbformat_minor": 5
}
